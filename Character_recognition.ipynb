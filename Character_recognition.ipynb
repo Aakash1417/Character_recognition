{
  "nbformat": 4,
  "nbformat_minor": 0,
  "metadata": {
    "colab": {
      "provenance": [],
      "authorship_tag": "ABX9TyPc0N98Gay7xg2VWxhB9zBC",
      "include_colab_link": true
    },
    "kernelspec": {
      "name": "python3",
      "display_name": "Python 3"
    },
    "language_info": {
      "name": "python"
    }
  },
  "cells": [
    {
      "cell_type": "markdown",
      "metadata": {
        "id": "view-in-github",
        "colab_type": "text"
      },
      "source": [
        "<a href=\"https://colab.research.google.com/github/phant0mthief1417/Character_recognition/blob/main/Character_recognition.ipynb\" target=\"_parent\"><img src=\"https://colab.research.google.com/assets/colab-badge.svg\" alt=\"Open In Colab\"/></a>"
      ]
    },
    {
      "cell_type": "code",
      "execution_count": 2,
      "metadata": {
        "colab": {
          "base_uri": "https://localhost:8080/"
        },
        "id": "dDUaCtDvoUIR",
        "outputId": "d0ec7a71-29e0-49b1-e19d-723ef8b6c850"
      },
      "outputs": [
        {
          "output_type": "stream",
          "name": "stdout",
          "text": [
            "Looking in indexes: https://pypi.org/simple, https://us-python.pkg.dev/colab-wheels/public/simple/\n",
            "Collecting extra_keras_datasets\n",
            "  Downloading extra_keras_datasets-1.2.0-py3-none-any.whl (12 kB)\n",
            "Requirement already satisfied: scipy in /usr/local/lib/python3.8/dist-packages (from extra_keras_datasets) (1.7.3)\n",
            "Requirement already satisfied: pandas in /usr/local/lib/python3.8/dist-packages (from extra_keras_datasets) (1.3.5)\n",
            "Requirement already satisfied: numpy in /usr/local/lib/python3.8/dist-packages (from extra_keras_datasets) (1.21.6)\n",
            "Requirement already satisfied: scikit-learn in /usr/local/lib/python3.8/dist-packages (from extra_keras_datasets) (1.0.2)\n",
            "Requirement already satisfied: python-dateutil>=2.7.3 in /usr/local/lib/python3.8/dist-packages (from pandas->extra_keras_datasets) (2.8.2)\n",
            "Requirement already satisfied: pytz>=2017.3 in /usr/local/lib/python3.8/dist-packages (from pandas->extra_keras_datasets) (2022.7)\n",
            "Requirement already satisfied: threadpoolctl>=2.0.0 in /usr/local/lib/python3.8/dist-packages (from scikit-learn->extra_keras_datasets) (3.1.0)\n",
            "Requirement already satisfied: joblib>=0.11 in /usr/local/lib/python3.8/dist-packages (from scikit-learn->extra_keras_datasets) (1.2.0)\n",
            "Requirement already satisfied: six>=1.5 in /usr/local/lib/python3.8/dist-packages (from python-dateutil>=2.7.3->pandas->extra_keras_datasets) (1.15.0)\n",
            "Installing collected packages: extra_keras_datasets\n",
            "Successfully installed extra_keras_datasets-1.2.0\n"
          ]
        }
      ],
      "source": [
        "import tensorflow as tf\n",
        "tf.__version__\n",
        "\n",
        "import numpy as np\n",
        "import cv2\n",
        "import keras\n",
        "from keras import models\n",
        "from keras import layers\n",
        "\n",
        "!pip install extra_keras_datasets\n",
        "from extra_keras_datasets import emnist\n",
        "CHARACTERS = \"0123456789ABCDEFGHIJKLMNOPQESTUVWXYZabcdefghijklmnopqestuvwxyz\" #encoding of 10-61"
      ]
    },
    {
      "cell_type": "code",
      "source": [
        "# define training constants\n",
        "num_classes = 62\n",
        "epochs = 10\n",
        "batch_size = 128\n",
        "input_shape = (28,28,1)"
      ],
      "metadata": {
        "id": "slEeUGY3ohqu"
      },
      "execution_count": null,
      "outputs": []
    },
    {
      "cell_type": "code",
      "source": [
        "model = models.Sequential()\n",
        "model.add(layers.Conv2D(32, kernel_size=(3, 3),activation='relu',input_shape=input_shape))\n",
        "model.add(layers.MaxPooling2D(pool_size=(2, 2)))\n",
        "model.add(layers.Conv2D(64, (3, 3), activation='relu'))\n",
        "model.add(layers.MaxPooling2D(pool_size=(2, 2)))\n",
        "model.add(layers.Conv2D(64, (3, 3), activation='relu'))\n",
        "model.add(layers.Flatten())\n",
        "model.add(layers.Dense(256, activation='relu'))\n",
        "model.add(layers.Dense(512, activation='relu'))\n",
        "model.add(layers.Dense(num_classes, activation='softmax'))\n",
        "model.summary()"
      ],
      "metadata": {
        "id": "9mlzj6r6orf6"
      },
      "execution_count": null,
      "outputs": []
    },
    {
      "cell_type": "code",
      "source": [
        "(train_images, train_labels), (test_images, test_labels) = emnist.load_data(type = 'byclass')"
      ],
      "metadata": {
        "id": "njlt-uZyou6j"
      },
      "execution_count": null,
      "outputs": []
    },
    {
      "cell_type": "code",
      "source": [
        "#Declare the size of the training and test sets (w&h of 28 + depth of 1)\n",
        "train_images = train_images.reshape(train_images.shape[0], 28, 28, 1)\n",
        "test_images = test_images.reshape(test_images.shape[0], 28, 28, 1)\n",
        "\n",
        "#convert all values to floats and change image to b&w\n",
        "train_images = train_images.astype('float32')/255\n",
        "test_images = test_images.astype('float32')/255\n",
        "\n",
        "train_labels = keras.utils.to_categorical(train_labels, num_classes)\n",
        "test_labels = keras.utils.to_categorical(test_labels, num_classes)"
      ],
      "metadata": {
        "id": "W6n0q656ovd2"
      },
      "execution_count": null,
      "outputs": []
    },
    {
      "cell_type": "code",
      "source": [
        "model.compile(loss=keras.losses.categorical_crossentropy,optimizer=keras.optimizers.Adam(learning_rate = 0.001),metrics=['accuracy'])\n",
        "model.fit(train_images, train_labels, epochs = epochs, batch_size=batch_size)\n",
        "\n",
        "test_loss, test_acc = model.evaluate(test_images, test_labels)\n",
        "print(test_acc)"
      ],
      "metadata": {
        "id": "_a0ywRTJowVK"
      },
      "execution_count": null,
      "outputs": []
    },
    {
      "cell_type": "code",
      "source": [
        "image = cv2.imread('5.png')[:, :, 0]\n",
        "\n",
        "image = cv2.resize(image, (28, 28))\n",
        "\n",
        "image = image.reshape(1, 28, 28, 1)\n",
        "image = image.astype('float32') / 255.0\n",
        "\n",
        "# Classify the image\n",
        "predictions = model.predict(image)[0]\n",
        "\n",
        "# Get the class with the highest probability\n",
        "predicted_class = np.argmax(predictions)\n",
        "\n",
        "# Print the prediction\n",
        "print(f'Prediction: {predicted_class} ({CHARACTERS[predicted_class]})')"
      ],
      "metadata": {
        "id": "o3YN8_pJo-oH"
      },
      "execution_count": null,
      "outputs": []
    }
  ]
}